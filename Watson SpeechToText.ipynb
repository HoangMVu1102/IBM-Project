{
 "cells": [
  {
   "cell_type": "code",
   "execution_count": 1,
   "metadata": {},
   "outputs": [
    {
     "name": "stdout",
     "output_type": "stream",
     "text": [
      "Requirement already satisfied: ibm_watson in d:\\anacondang\\lib\\site-packages (4.2.1)\n",
      "Requirement already satisfied: wget in d:\\anacondang\\lib\\site-packages (3.2)\n",
      "Requirement already satisfied: ibm-cloud-sdk-core==1.5.1 in d:\\anacondang\\lib\\site-packages (from ibm_watson) (1.5.1)\n",
      "Requirement already satisfied: requests<3.0,>=2.0 in d:\\anacondang\\lib\\site-packages (from ibm_watson) (2.22.0)\n",
      "Requirement already satisfied: python-dateutil>=2.5.3 in d:\\anacondang\\lib\\site-packages (from ibm_watson) (2.8.0)\n",
      "Requirement already satisfied: websocket-client==0.48.0 in d:\\anacondang\\lib\\site-packages (from ibm_watson) (0.48.0)\n",
      "Requirement already satisfied: PyJWT>=1.7.1 in d:\\anacondang\\lib\\site-packages (from ibm-cloud-sdk-core==1.5.1->ibm_watson) (1.7.1)\n",
      "Requirement already satisfied: chardet<3.1.0,>=3.0.2 in d:\\anacondang\\lib\\site-packages (from requests<3.0,>=2.0->ibm_watson) (3.0.4)\n",
      "Requirement already satisfied: idna<2.9,>=2.5 in d:\\anacondang\\lib\\site-packages (from requests<3.0,>=2.0->ibm_watson) (2.8)\n",
      "Requirement already satisfied: urllib3!=1.25.0,!=1.25.1,<1.26,>=1.21.1 in d:\\anacondang\\lib\\site-packages (from requests<3.0,>=2.0->ibm_watson) (1.24.2)\n",
      "Requirement already satisfied: certifi>=2017.4.17 in d:\\anacondang\\lib\\site-packages (from requests<3.0,>=2.0->ibm_watson) (2019.9.11)\n",
      "Requirement already satisfied: six>=1.5 in d:\\anacondang\\lib\\site-packages (from python-dateutil>=2.5.3->ibm_watson) (1.12.0)\n"
     ]
    }
   ],
   "source": [
    "!pip install ibm_watson wget"
   ]
  },
  {
   "cell_type": "code",
   "execution_count": 62,
   "metadata": {},
   "outputs": [
    {
     "name": "stdout",
     "output_type": "stream",
     "text": [
      "3.7.4\n"
     ]
    }
   ],
   "source": [
    "from platform import python_version\n",
    "print(python_version())"
   ]
  },
  {
   "cell_type": "code",
   "execution_count": 14,
   "metadata": {},
   "outputs": [],
   "source": [
    "from ibm_watson import SpeechToTextV1\n",
    "import json\n",
    "from ibm_cloud_sdk_core.authenticators import IAMAuthenticator\n",
    "from pandas.io.json import json_normalize"
   ]
  },
  {
   "cell_type": "code",
   "execution_count": 6,
   "metadata": {},
   "outputs": [],
   "source": [
    "# Load the SpeechToTextV1. The url file store information, and the api key active the service.\n",
    "url_s2t = \"https://api.jp-tok.speech-to-text.watson.cloud.ibm.com/instances/975ea73e-8e8d-49e7-b2bc-9779bf655d90\"\n",
    "iam_apikey_s2t = \"uY0vK8vr0JytGRgyLmBK2njwH3i6aRUsYEvl204I3eUA\""
   ]
  },
  {
   "cell_type": "code",
   "execution_count": 7,
   "metadata": {},
   "outputs": [],
   "source": [
    "authenticator = IAMAuthenticator(iam_apikey_s2t)\n",
    "s2t = SpeechToTextV1(authenticator = authenticator)\n",
    "s2t.set_service_url(url_s2t)"
   ]
  },
  {
   "cell_type": "code",
   "execution_count": 57,
   "metadata": {},
   "outputs": [],
   "source": [
    "# Import mp3 file example\n",
    "mp3_file = \"/Users/ADMIN/Downloads/Compressed/abc.mp3\"\n",
    "#mp3_file = \"/Users/ADMIN/Desktop/NhuBanTinhCa.mp3\""
   ]
  },
  {
   "cell_type": "code",
   "execution_count": 58,
   "metadata": {},
   "outputs": [],
   "source": [
    "# rb mode of pandas lib is using to read the file in binary format. \n",
    "# mp3_typle parameter is the format of the audio file.\n",
    "with open(mp3_file, mode='rb') as mp_3:\n",
    "    response = s2t.recognize(audio = mp_3, mp3_typle= 'audio/mp3')\n",
    "    "
   ]
  },
  {
   "cell_type": "code",
   "execution_count": 59,
   "metadata": {},
   "outputs": [
    {
     "data": {
      "text/plain": [
       "{'results': [{'alternatives': [{'confidence': 0.94,\n",
       "     'transcript': \"what I want to do in this video is give you at least a basic overview of probability probability a word that you've probably heard a lot of in you are probably a little bit familiar with it but hopefully this will give you a little deeper understanding so let's say that I have let's say that I have a fair coin over here so when I talk about a fair coin I mean that has an equal chance of landing on one side or another so you can may be viewed as the sides are equal the weight is the same on either side it's not if I flip in the air if not more likely to land on one side or the other it's equally likely and so you have one side of this coin so this would be the heads I guess try to draw a drug George Washington all assume it's a quarter of some kind or any other side of course is the tales so that is heads the other side right over there's tales and so if I were to ask you what is the probably I'm going to flip a coin I'm going to flip a coin and I want to know what is the probability of getting heads and I could write that like this the probability of getting heads and you probably just based on that question have a sense of what probability is asking it's asking for some type of some type of way of of of getting your hands around an event that's fundamentally random we don't know whether it's heads or tails but we can start to describe the chances of it being heads or tails and we'll talk about different ways of describing that so one way to think about it in this is the way the probability tends to be introduced in textbooks if you say well look how many different equally likely possibilities are there so how many equally likely possibility so number of equally \"}],\n",
       "   'final': True},\n",
       "  {'alternatives': [{'confidence': 0.96,\n",
       "     'transcript': 'right equally of equally '}],\n",
       "   'final': True},\n",
       "  {'alternatives': [{'confidence': 0.93,\n",
       "     'transcript': 'likely equally likely possibilities '}],\n",
       "   'final': True},\n",
       "  {'alternatives': [{'confidence': 0.98,\n",
       "     'transcript': 'possibilities and of the number of equally possibilities I care about the number that have that contain my event right here so the number of possibilities '}],\n",
       "   'final': True},\n",
       "  {'alternatives': [{'confidence': 0.94,\n",
       "     'transcript': 'possibilities that meet my constraint that meet '}],\n",
       "   'final': True},\n",
       "  {'alternatives': [{'confidence': 0.93,\n",
       "     'transcript': \"my conditions that meet my conditions so in the case of the probability of figuring out heads what is the number of equally likely possibilities well there's only two possibilities were just not we're assuming that the coin can't land on its corner and to stand straight up we're assuming that lot it lands flat so there's two possibilities here two equally likely possibilities you could either get heads or you could get tales and what's the number of possibilities that meet my conditions well there's only one the condition of heads so it'll be one over to so the one way to think about it is the probability of getting heads is equal to one over to is equal to one half if I wanted to write that as a percentage we know that one half is the same thing as fifty percent now another way to think about or conceptualize probability that will give you this exact same answer is to say well if I were to run the experiment of flipping a coin so this flip you view this as an experiment I know this is kind of experiment that you're used to you know you only thing an experiment is doing something with in chemistry or physics or all the rest but experiment is every time you do you run this random event so one way to think about probably if I were to do this experiment an experiment many many many times if I wrote up a thousand times were million times or billion times are trillion times in the more the better what percentage of those would give me what I care about what percentage of those would give ME heads and so another way to think about this fifty percent probability of getting heads is if I were to run this experiment tons of times if I were to run this for ever though and closer or %HESITATION in infinite number of times what percentage of those would be heads you would get this fifty percent and you can run that simulation you can flip a coin it's such a fun thing to do I encourage you to do it if you put take a hundred or two hundred quarters are penny stick him in a big box shake the box so you're kind \"}],\n",
       "   'final': True},\n",
       "  {'alternatives': [{'confidence': 0.94,\n",
       "     'transcript': \"of simultaneously flipping all the core all of the coins and then count how many of those are going to be heads and you're going to see that the larger the number that you are you are you are doing the more likely you're gonna get something really close to fifty percent there's always some chance even if you flip the coin a million times there's some super duper small chance that you get all tales but the more you do the more likely that you're going to get you're going to that things are when a trend two words fifty percent of them are going to be heads now let's just apply the same ideas and while we're while we're starting with probability cut at least kind of the basic this is probably an easier thing to conceptualize but a lot of times this is actually helpful one to this idea that if you run the experiment many many many many times what percentage of those trials are going to give you what you're asking for in this case it was heads house to another very typical example when you first learn probability in this is the idea of rolling a die so here's my die right over here \"}],\n",
       "   'final': True},\n",
       "  {'alternatives': [{'confidence': 0.92,\n",
       "     'transcript': \"and of course you have you know you have the different sides of the dice that's the one that the two that's the three know what I want to do and we know of course that there are and I'm assuming this is a fair die and so they're six equally likely possibilities you could when you roll this you can get a one a two a three of four of five or six and they're all equally likely so if I were to ask you what is the probability what is the probability given that I'm rolling affair dies so the experiment is rolling this fair die what is the probability of getting a one well what are the number of equally likely possibilities well I have six equally likely possibilities and how many of those meet my conditions will only one of them meets my condition that right there so there is a one six probability of rolling a one what is the probability \"}],\n",
       "   'final': True},\n",
       "  {'alternatives': [{'confidence': 0.94,\n",
       "     'transcript': 'what is the probability of rolling a one or a six '}],\n",
       "   'final': True},\n",
       "  {'alternatives': [{'confidence': 0.88,\n",
       "     'transcript': \"once again there are six equal equally there six equally likely possibilities for what I can get and there's two there now two possibilities that meet my commissions I could roll a one \"}],\n",
       "   'final': True},\n",
       "  {'alternatives': [{'confidence': 0.92,\n",
       "     'transcript': \"or I could roll a six so now there's two equally likely paas there to possibilities that meet my constraints my conditions so this is there is a one third probability of rolling a one or a six now what is what is the probability this might seem a little silly to even ask this question but I'll ask it just to make it clear what is the probability of rolling a to end to end a three and I'm just talking about one roll of the dice well I in any role that I can only get a two or a three I'm not talking about taking two rolls of this dye so in this situation it is their six there six possibilities but none of these possibilities are two and a three none of these are two and a three two and a three cannot exist on one trial you cannot get a two and a three in the same in the same experiment these of getting a two and a three are mutually exclusive events they can not happen at the same time so the probability of this is actually zero there's no way to roll this normal vitals and you get to end at three in fact and I don't want to confuse you with that because it's just you know it's it's it's kind of abstract impossible so let's cross this out right over here now what is the probability what is the probability of getting an even number of getting an even number so once again you have six equally likely possibilities when I roll that die and which of these which of these possibilities meet my conditions the condition of being even well two is even for is even and the six is even so three of the possibilities meet my conditions meet my constraints so this is one half I roll a die I have a one half chance of getting an even number \"}],\n",
       "   'final': True}],\n",
       " 'result_index': 0}"
      ]
     },
     "execution_count": 59,
     "metadata": {},
     "output_type": "execute_result"
    }
   ],
   "source": [
    "response.result"
   ]
  },
  {
   "cell_type": "code",
   "execution_count": 60,
   "metadata": {},
   "outputs": [
    {
     "data": {
      "text/html": [
       "<div>\n",
       "<style scoped>\n",
       "    .dataframe tbody tr th:only-of-type {\n",
       "        vertical-align: middle;\n",
       "    }\n",
       "\n",
       "    .dataframe tbody tr th {\n",
       "        vertical-align: top;\n",
       "    }\n",
       "\n",
       "    .dataframe thead th {\n",
       "        text-align: right;\n",
       "    }\n",
       "</style>\n",
       "<table border=\"1\" class=\"dataframe\">\n",
       "  <thead>\n",
       "    <tr style=\"text-align: right;\">\n",
       "      <th></th>\n",
       "      <th>confidence</th>\n",
       "      <th>transcript</th>\n",
       "    </tr>\n",
       "  </thead>\n",
       "  <tbody>\n",
       "    <tr>\n",
       "      <td>0</td>\n",
       "      <td>0.94</td>\n",
       "      <td>what I want to do in this video is give you at...</td>\n",
       "    </tr>\n",
       "    <tr>\n",
       "      <td>1</td>\n",
       "      <td>0.96</td>\n",
       "      <td>right equally of equally</td>\n",
       "    </tr>\n",
       "    <tr>\n",
       "      <td>2</td>\n",
       "      <td>0.93</td>\n",
       "      <td>likely equally likely possibilities</td>\n",
       "    </tr>\n",
       "    <tr>\n",
       "      <td>3</td>\n",
       "      <td>0.98</td>\n",
       "      <td>possibilities and of the number of equally pos...</td>\n",
       "    </tr>\n",
       "    <tr>\n",
       "      <td>4</td>\n",
       "      <td>0.94</td>\n",
       "      <td>possibilities that meet my constraint that meet</td>\n",
       "    </tr>\n",
       "    <tr>\n",
       "      <td>5</td>\n",
       "      <td>0.93</td>\n",
       "      <td>my conditions that meet my conditions so in th...</td>\n",
       "    </tr>\n",
       "    <tr>\n",
       "      <td>6</td>\n",
       "      <td>0.94</td>\n",
       "      <td>of simultaneously flipping all the core all of...</td>\n",
       "    </tr>\n",
       "    <tr>\n",
       "      <td>7</td>\n",
       "      <td>0.92</td>\n",
       "      <td>and of course you have you know you have the d...</td>\n",
       "    </tr>\n",
       "    <tr>\n",
       "      <td>8</td>\n",
       "      <td>0.94</td>\n",
       "      <td>what is the probability of rolling a one or a ...</td>\n",
       "    </tr>\n",
       "    <tr>\n",
       "      <td>9</td>\n",
       "      <td>0.88</td>\n",
       "      <td>once again there are six equal equally there s...</td>\n",
       "    </tr>\n",
       "    <tr>\n",
       "      <td>10</td>\n",
       "      <td>0.92</td>\n",
       "      <td>or I could roll a six so now there's two equal...</td>\n",
       "    </tr>\n",
       "  </tbody>\n",
       "</table>\n",
       "</div>"
      ],
      "text/plain": [
       "    confidence                                         transcript\n",
       "0         0.94  what I want to do in this video is give you at...\n",
       "1         0.96                          right equally of equally \n",
       "2         0.93               likely equally likely possibilities \n",
       "3         0.98  possibilities and of the number of equally pos...\n",
       "4         0.94   possibilities that meet my constraint that meet \n",
       "5         0.93  my conditions that meet my conditions so in th...\n",
       "6         0.94  of simultaneously flipping all the core all of...\n",
       "7         0.92  and of course you have you know you have the d...\n",
       "8         0.94  what is the probability of rolling a one or a ...\n",
       "9         0.88  once again there are six equal equally there s...\n",
       "10        0.92  or I could roll a six so now there's two equal..."
      ]
     },
     "execution_count": 60,
     "metadata": {},
     "output_type": "execute_result"
    }
   ],
   "source": [
    "# Normalize semi-structure Json data into a table\n",
    "json_normalize(response.result['results'],\"alternatives\")"
   ]
  },
  {
   "cell_type": "code",
   "execution_count": 61,
   "metadata": {},
   "outputs": [
    {
     "data": {
      "text/plain": [
       "\"or I could roll a six so now there's two equally likely paas there to possibilities that meet my constraints my conditions so this is there is a one third probability of rolling a one or a six now what is what is the probability this might seem a little silly to even ask this question but I'll ask it just to make it clear what is the probability of rolling a to end to end a three and I'm just talking about one roll of the dice well I in any role that I can only get a two or a three I'm not talking about taking two rolls of this dye so in this situation it is their six there six possibilities but none of these possibilities are two and a three none of these are two and a three two and a three cannot exist on one trial you cannot get a two and a three in the same in the same experiment these of getting a two and a three are mutually exclusive events they can not happen at the same time so the probability of this is actually zero there's no way to roll this normal vitals and you get to end at three in fact and I don't want to confuse you with that because it's just you know it's it's it's kind of abstract impossible so let's cross this out right over here now what is the probability what is the probability of getting an even number of getting an even number so once again you have six equally likely possibilities when I roll that die and which of these which of these possibilities meet my conditions the condition of being even well two is even for is even and the six is even so three of the possibilities meet my conditions meet my constraints so this is one half I roll a die I have a one half chance of getting an even number \""
      ]
     },
     "execution_count": 61,
     "metadata": {},
     "output_type": "execute_result"
    }
   ],
   "source": [
    "recognized_text=response.result['results'][10][\"alternatives\"][0][\"transcript\"]\n",
    "recognized_text"
   ]
  },
  {
   "cell_type": "code",
   "execution_count": null,
   "metadata": {},
   "outputs": [],
   "source": []
  }
 ],
 "metadata": {
  "kernelspec": {
   "display_name": "Python 3",
   "language": "python",
   "name": "python3"
  },
  "language_info": {
   "codemirror_mode": {
    "name": "ipython",
    "version": 3
   },
   "file_extension": ".py",
   "mimetype": "text/x-python",
   "name": "python",
   "nbconvert_exporter": "python",
   "pygments_lexer": "ipython3",
   "version": "3.7.4"
  }
 },
 "nbformat": 4,
 "nbformat_minor": 2
}
